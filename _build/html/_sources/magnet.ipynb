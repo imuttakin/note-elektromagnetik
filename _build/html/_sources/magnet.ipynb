{
 "cells": [
  {
   "cell_type": "markdown",
   "metadata": {},
   "source": [
    "# Magnet"
   ]
  },
  {
   "cell_type": "markdown",
   "metadata": {},
   "source": [
    "(magn_flux)=\n",
    "## Fluks magnet"
   ]
  },
  {
   "cell_type": "markdown",
   "metadata": {},
   "source": [
    "Medan magnet direpresentasikan oleh simbol $\\mathbf{B}$. Sebagaimana halnya medan listrik, $\\mathbf{B}$ adalah suatu medan vektor dan memiliki satuan Tesla, $T$. Sebuah besaran penting adalah fluks magnet, $\\mathbf{\\Phi}$, yang didefinisikan sebagai \n",
    "\n",
    "$$\\mathbf{\\Phi} = \\iint_{\\mathbf{S}}^{} \\mathbf{B} \\cdot d\\mathbf{S}$$\n",
    "\n",
    "dimana $\\mathbf{S}$ adalah vektor mengarah ke luar permukaan yang dikaji. Dengan demikian, $\\mathbf{\\Phi}$ adalah fluks magnet melalui suatu permukaan dan memiliki satuan Weber, $Wb$ ($Tm^2$)."
   ]
  },
  {
   "cell_type": "markdown",
   "metadata": {},
   "source": [
    "(lorentz_force)=\n",
    "## Gaya Lorentz\n",
    "\n",
    "Gaya Lorentz menggambarkan gaya yang dialami oleh suatu objek bermuatan dengan muatan $q$ di dalam suatu medan listrik dan medan magnet serta diberikan oleh\n",
    "\n",
    "$$\\mathbf{F} = q(\\mathbf{E} + \\mathbf{v} \\times \\mathbf{B})$$\n",
    "\n",
    "dimana $\\mathbf{v}$ adalah kecepatan dari suatu objek bermuatan. Jika diasumsikan tidak ada medan listrik dan suatu medan magnet yang konstan, partikel akan mengalami sebuah gaya yang tegak lurus terhadap pergerakannya dimana $\\mathbf{F} = \\mathbf{F(v)}$. Jadi $\\mathbf{B}$ juga adalah suatu kuantitas konservatif."
   ]
  },
  {
   "cell_type": "markdown",
   "metadata": {},
   "source": [
    "(magn_dipole)=\n",
    "## Momen dipole magnet\n",
    "\n",
    "Kawat yang dialiri arus memiliki muatan yang bergerak sehingga kawat yang dialiri arus di dalam sebuah medan magnet dapat mengalami sebuah gaya\n",
    "\n",
    "$$\\mathbf{F} = \\int_{0}^{L} nqv \\,d\\boldsymbol{l} \\times \\mathbf{B}$$\n",
    "\n",
    "dimana $n$ adalah rapat muatan ($m^{-1}$). Arus seringkali mengalir pada lintasan tertutup. Dengan demikian kita mendefinisikan suatu kuantitas vektor baru, *momen dipole magnet*, $\\boldsymbol{\\mu}$:\n",
    "\n",
    "$$\\boldsymbol{\\mu} = I \\mathbf{A}$$\n",
    "\n",
    "dimana arus $I$ mengalir pada suatu lintasan dengan area $A$. $\\mathbf{A}$ adalah suatu vektor berdasarkan aturan tangan kanan pada arus. Suatu medan magnet akan mengerahkan suatu torsi, $\\mathbf{\\Gamma}$, terhadap suatu arus lintasan\n",
    "\n",
    "$$\\mathbf{\\Gamma} = \\boldsymbol{\\mu} \\times \\mathbf{B}$$\n",
    "\n",
    "Dengan demikian, medan magnet mengerahkan suatu torsi pada dipole magnet."
   ]
  }
 ],
 "metadata": {
  "kernelspec": {
   "display_name": "Python 3",
   "language": "python",
   "name": "python3"
  },
  "language_info": {
   "codemirror_mode": {
    "name": "ipython",
    "version": 3
   },
   "file_extension": ".py",
   "mimetype": "text/x-python",
   "name": "python",
   "nbconvert_exporter": "python",
   "pygments_lexer": "ipython3",
   "version": "3.7.9"
  }
 },
 "nbformat": 4,
 "nbformat_minor": 2
}
