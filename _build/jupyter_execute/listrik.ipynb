{
 "cells": [
  {
   "cell_type": "markdown",
   "metadata": {},
   "source": [
    "# Listrik "
   ]
  },
  {
   "cell_type": "markdown",
   "metadata": {},
   "source": [
    "(coulombs_law)=\n",
    "## Hukum Coulomb dan medan listrik\n",
    "\n",
    "Sebuah muatan diam $q_1$ pada posisi $\\mathbf{r_1}$ menghasilkan suatu gaya pada sebuah muatan $q_2$ pada $\\mathbf{r_2}$. Hukum Coulomb menggambarkan interaksi listrik antara dua partikel bermuatan dalam hal gaya yang mereka kerahkan terhadap satu sama lain. Ini diberikan oleh\n",
    "\n",
    "$$\\mathbf{F_{12}} = \\frac{q_1 q_2}{4{\\pi}{\\epsilon_0}{r_{12}^3}} \\mathbf{r_{12}}$$\n",
    "\n",
    "dimana $\\mathbf{r_{12}} ≡ r_2 − r_1$ dan $r_{12} = \\mathbf{\\left|r_{12}\\right|}$.\n",
    "\n",
    "Medan listrik, $\\mathbf{E(r)}$, dari sebuah muatan mengilustrasikan bagaimana gaya listrik yang dikerahkan oleh muatan tersebut terhadap muatan lain bervariasi pada ruang. Medan pada suatu titik $ \\mathbf{r}$ oleh sebuah muatan, $q_1$ yang selalu berada pada $ \\mathbf{r_1}$ didefinisikan sebagai\n",
    "\n",
    "$$\\mathbf{E(r)} = \\frac{q_1}{4{\\pi}{\\epsilon_0}{\\mathbf{\\left|r - r_1\\right|}^3}}\\mathbf{\\left[r - r_1\\right]}$$\n",
    "\n",
    "Sekarang letakkan sebuah muatan, $q_2$, di dalam medan. Dengan menggunakan kedua definisi di atas kita dapat melihat bahwa gaya yang dikerahkan pada $q_2$ memiliki hubungan terhadap medan listrik dengan\n",
    "\n",
    "$$\\mathbf{F_{12}} = q_2 \\mathbf{E(r)}$$\n",
    "\n",
    "Untuk suatu sistem terdiri dari $n$ muatan, kita dapat menggunakan prinsip superposisi untuk menunjukkan bahwa medan listrik pada sistem tersebut adalah\n",
    "\n",
    "$$\\mathbf{E} = \\sum^{n}_{i = 1} \\mathbf{E}_i$$\n",
    "\n",
    "Medan listrik oleh sebuah muatan titik positif pada pusat di plot sebagai berikut. Panjang panah adalah suatu indikasi dari kekuatan medan listrik pada titik tersebut."
   ]
  },
  {
   "cell_type": "code",
   "execution_count": 1,
   "metadata": {},
   "outputs": [
    {
     "data": {
      "image/png": "[encoded data removed]",
      "text/plain": [
       "<Figure size 432x288 with 1 Axes>"
      ]
     },
     "metadata": {
      "filenames": {
       "image/png": "C:\\Users\\Imamul Muttakin\\OneDrive\\Book\\mynewbook0\\_build\\jupyter_execute\\listrik_2_0.png"
      },
      "needs_background": "light"
     },
     "output_type": "display_data"
    }
   ],
   "source": [
    "import numpy as np\n",
    "import matplotlib.pyplot as plt\n",
    "\n",
    "def E(x,y):\n",
    "    q= 1 #muatan dalam coulombs\n",
    "    r1 = np.array([0,0]) #muatan diletakkan pada pusat koordinat\n",
    "    e0= 8.85*10**(-12) #permittivitas free space\n",
    "    mag= (q / (4 * np.pi* e0)) * (1 / ((x - r1[0])**2+ (y - r1[1])**2)) #kuat medan listrik\n",
    "    ex= mag * ( np.sin(np.arctan2(x,y)))\n",
    "    ey= mag * ( np.cos(np.arctan2(x,y)))\n",
    "    \n",
    "    return (ex,ey)\n",
    "\n",
    "x=np.linspace (-10,10,14)\n",
    "y=np.linspace (-10,10,14)\n",
    "\n",
    "x,y=np.meshgrid(x,y)\n",
    "\n",
    "ex,ey=E(x,y)\n",
    "plt.quiver(x,y,ex,ey, scale = 15000000000)\n",
    "plt.show()"
   ]
  },
  {
   "cell_type": "markdown",
   "metadata": {},
   "source": [
    "(electric_potential)=\n",
    "## Potensial Listrik\n",
    "\n",
    "Pertimbangkan sebuah muatan $q$ di dalam medan listrik dari muatan lain $Q$. Muatan $q$ mengalami suatu gaya, $\\mathbf{F}_Q$, diakibatkan oleh medan listrik. Lalu gerakkan $q$ dari $A \\rightarrow B$ pada kecepatan konstan. Suatu gaya, $\\mathbf{F}_{ext}$ harus diterapkan untuk menyamai $\\mathbf{F}_Q$. Dengan demikian, dalam menggerakkan muatan tersebut gaya eksternal melakukan usaha. Bergerak pada kecepatan konstan\n",
    "\n",
    "$$\\mathbf{F}_{ext} + \\mathbf{F}_Q = 0$$\n",
    "\n",
    "maka usaha yang dilakukan oleh $\\mathbf{F}_{ext}$ pada $q$ adalah \n",
    "\n",
    "$$dW = \\mathbf{F}_{ext} \\cdot d\\boldsymbol{l} = - \\mathbf{F}_{Q} \\cdot d\\boldsymbol{l}$$\n",
    "\n",
    "Sehingga usaha total yang dilakukan oleh $\\mathbf{F}_{ext}$ diperoleh dengan mengintegrasikan dari A ke B\n",
    "\n",
    "$$W = \\int_{A}^{B} \\mathbf{F}_{ext} \\cdot d\\boldsymbol{l} = - \\int_{A}^{B} \\mathbf{F}_{Q} \\cdot d\\boldsymbol{l}$$\n",
    "\n",
    "Usaha yang dilakukan, $W$, sebanding dengan perubahan energi potensial, $∆U$, maka\n",
    "\n",
    "$$∆U = - \\mathbf{F}_{Q} \\cdot d\\boldsymbol{l}$$\n",
    "\n",
    "Menggunakan Hukum Coulomb dan melakukan integrasi kita dapatkan\n",
    "\n",
    "$$∆U_{AB} = \\frac{q Q}{4{\\pi}{\\epsilon_0}}\\left(\\frac{1}{r_B} - \\frac{1}{r_A}\\right)$$\n",
    "\n",
    "sehingga perubahan energi potensial hanya bergantung pada pemisahan radial, r. Dengan demikian, $∆U_{AB}$ adalah independen (tidak dipengaruhi) dari jalur, artinya bentuk jalur tidak berpengaruh pada perubahan energi potensial."
   ]
  },
  {
   "cell_type": "markdown",
   "metadata": {},
   "source": [
    "### Beda potensial\n",
    "\n",
    "Beda potensial antara $A$ dan $B$ adalah $∆V_{AB}$ dimana\n",
    "\n",
    "$$∆V_{AB} =  \\frac{∆U_{AB}}{q} = - \\int_{A}^{B} \\mathbf{E} \\cdot d\\boldsymbol{l}$$\n",
    "\n",
    "$∆V_{AB}$ juga adalah jalur independen, dan tidak bergantung pada $q$ dengan satuan SI\n",
    "$JC^{−1}$. Dengan memilih $V = 0$ selagi $r \\rightarrow \\infty$, kita mendefinisikan potensial listrik, $V$, pada $P$ sebagai usaha eksternal yang diperlukan untuk membawa sebuah muatan sebesar $+1 C$ pada kecepatan konstan dari $r = ∞ \\,(V = 0)$ ke $P$: \n",
    "\n",
    "$$ V = - \\int_{\\infty}^{P} \\mathbf{E} \\cdot d\\boldsymbol{l}$$\n",
    "\n",
    "Fakta kunci tentang $V$: ia merupakan energi potensial / unit muatan positif; ia merupakan suatu medan skalar; serta prinsip superposisi berlaku. Tanpa diterapkan gaya eksternal, muatan positif bergerak ke potensial lebih rendah dan muatan negatif bergerak ke potensial lebih tinggi. Untuk sebuah muatan titik $Q$, potensial $V$ pada $r$ dari $Q$ adalah:\n",
    "\n",
    "$$V = \\frac{Q}{4{\\pi}{\\epsilon_0}r}$$"
   ]
  }
 ],
 "metadata": {
  "kernelspec": {
   "display_name": "Python 3",
   "language": "python",
   "name": "python3"
  },
  "language_info": {
   "codemirror_mode": {
    "name": "ipython",
    "version": 3
   },
   "file_extension": ".py",
   "mimetype": "text/x-python",
   "name": "python",
   "nbconvert_exporter": "python",
   "pygments_lexer": "ipython3",
   "version": "3.7.10"
  }
 },
 "nbformat": 4,
 "nbformat_minor": 2
}